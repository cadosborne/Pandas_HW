{
 "cells": [
  {
   "cell_type": "markdown",
   "metadata": {},
   "source": [
    "### Heroes Of Pymoli Data Analysis\n",
    "* Of the 1163 active players, the vast majority are male (84%). There also exists, a smaller, but notable proportion of female players (14%).\n",
    "\n",
    "* Our peak age demographic falls between 20-24 (44.8%) with secondary groups falling between 15-19 (18.60%) and 25-29 (13.4%).  \n",
    "-----"
   ]
  },
  {
   "cell_type": "markdown",
   "metadata": {},
   "source": [
    "### Note\n",
    "* Instructions have been included for each segment. You do not have to follow them exactly, but they are included to help you think through the steps."
   ]
  },
  {
   "cell_type": "markdown",
   "metadata": {},
   "source": [
    "Observations from Analysis:\n",
    "- Of the 576 users a 183 different games were purchased for a total revenue of over $2,379. Similar to the initial analysis suggested above the proportion of women players was 14%, but with the smaller population size. \n",
    "- Our peak age demographic again falls between 20-24, and again follows the pattern set in the larger sample size referenced above. \n",
    "- Although the sample size is significantly smaller than the one mentioned above, 1163 active users compared to 576 the key observations are consistent through both analysis' strengthening the proof that the unique item is the only trend really changing throughout the two analysis'."
   ]
  },
  {
   "cell_type": "code",
   "execution_count": 3,
   "metadata": {},
   "outputs": [
    {
     "data": {
      "text/plain": [
       "Index(['Purchase ID', 'SN', 'Age', 'Gender', 'Item ID', 'Item Name', 'Price'], dtype='object')"
      ]
     },
     "execution_count": 3,
     "metadata": {},
     "output_type": "execute_result"
    }
   ],
   "source": [
    "# Dependencies and Setup\n",
    "import pandas as pd\n",
    "import numpy as np\n",
    "\n",
    "# File to Load (Remember to Change These)\n",
    "file_to_load = \"Resources/purchase_data.csv\"\n",
    "\n",
    "# Read Purchasing File and store into Pandas data frame\n",
    "purchase_data = pd.read_csv(file_to_load)\n",
    "\n",
    "purchase_data.head()\n",
    "\n",
    "purchase_data.columns\n"
   ]
  },
  {
   "cell_type": "markdown",
   "metadata": {},
   "source": [
    "## Player Count"
   ]
  },
  {
   "cell_type": "markdown",
   "metadata": {},
   "source": [
    "* Display the total number of players\n"
   ]
  },
  {
   "cell_type": "code",
   "execution_count": 5,
   "metadata": {},
   "outputs": [
    {
     "data": {
      "text/html": [
       "<div>\n",
       "<style scoped>\n",
       "    .dataframe tbody tr th:only-of-type {\n",
       "        vertical-align: middle;\n",
       "    }\n",
       "\n",
       "    .dataframe tbody tr th {\n",
       "        vertical-align: top;\n",
       "    }\n",
       "\n",
       "    .dataframe thead th {\n",
       "        text-align: right;\n",
       "    }\n",
       "</style>\n",
       "<table border=\"1\" class=\"dataframe\">\n",
       "  <thead>\n",
       "    <tr style=\"text-align: right;\">\n",
       "      <th></th>\n",
       "      <th>Total Players</th>\n",
       "    </tr>\n",
       "  </thead>\n",
       "  <tbody>\n",
       "    <tr>\n",
       "      <th>0</th>\n",
       "      <td>576</td>\n",
       "    </tr>\n",
       "  </tbody>\n",
       "</table>\n",
       "</div>"
      ],
      "text/plain": [
       "   Total Players\n",
       "0            576"
      ]
     },
     "execution_count": 5,
     "metadata": {},
     "output_type": "execute_result"
    }
   ],
   "source": [
    "#total number of players\n",
    "uniqueplayers = purchase_data['SN'].nunique()\n",
    "total_players_final = pd.DataFrame({\"Total Players\": [uniqueplayers]}, columns= [\"Total Players\"])\n",
    "total_players_final\n"
   ]
  },
  {
   "cell_type": "markdown",
   "metadata": {},
   "source": [
    "## Purchasing Analysis (Total)"
   ]
  },
  {
   "cell_type": "markdown",
   "metadata": {},
   "source": [
    "* Run basic calculations to obtain number of unique items, average price, etc.\n",
    "\n",
    "\n",
    "* Create a summary data frame to hold the results\n",
    "\n",
    "\n",
    "* Optional: give the displayed data cleaner formatting\n",
    "\n",
    "\n",
    "* Display the summary data frame\n"
   ]
  },
  {
   "cell_type": "code",
   "execution_count": 15,
   "metadata": {
    "scrolled": true
   },
   "outputs": [
    {
     "data": {
      "text/html": [
       "<style  type=\"text/css\" >\n",
       "</style><table id=\"T_b742ea90_92eb_11e9_8ff1_485ab6199104\" ><thead>    <tr>        <th class=\"blank level0\" ></th>        <th class=\"col_heading level0 col0\" >Number of Unique Items</th>        <th class=\"col_heading level0 col1\" >Average Purchase Price</th>        <th class=\"col_heading level0 col2\" >Number of Purchases</th>        <th class=\"col_heading level0 col3\" >Total Revenue</th>    </tr></thead><tbody>\n",
       "                <tr>\n",
       "                        <th id=\"T_b742ea90_92eb_11e9_8ff1_485ab6199104level0_row0\" class=\"row_heading level0 row0\" >0</th>\n",
       "                        <td id=\"T_b742ea90_92eb_11e9_8ff1_485ab6199104row0_col0\" class=\"data row0 col0\" >183</td>\n",
       "                        <td id=\"T_b742ea90_92eb_11e9_8ff1_485ab6199104row0_col1\" class=\"data row0 col1\" >$3.05</td>\n",
       "                        <td id=\"T_b742ea90_92eb_11e9_8ff1_485ab6199104row0_col2\" class=\"data row0 col2\" >780</td>\n",
       "                        <td id=\"T_b742ea90_92eb_11e9_8ff1_485ab6199104row0_col3\" class=\"data row0 col3\" >$2379.77</td>\n",
       "            </tr>\n",
       "    </tbody></table>"
      ],
      "text/plain": [
       "<pandas.io.formats.style.Styler at 0x844289b438>"
      ]
     },
     "execution_count": 15,
     "metadata": {},
     "output_type": "execute_result"
    }
   ],
   "source": [
    "#find number of unique items sold, purchase price, number of purchases, and total revenue for full dataframe\n",
    "uniqueitems = purchase_data['Item ID'].nunique()\n",
    "avgprice = (purchase_data['Price'].sum()/purchase_data['Price'].count()).round(2)\n",
    "totalpurchases = purchase_data['Price'].count()\n",
    "totalrevenue = purchase_data[\"Price\"].sum()\n",
    "\n",
    "total_analysis_df = pd.DataFrame({\"Number of Unique Items\": [uniqueitems], \n",
    "                              \"Average Purchase Price\": [avgprice],\n",
    "                             \"Number of Purchases\": [totalpurchases],\n",
    "                             \"Total Revenue\": [totalrevenue]}, columns= [\"Number of Unique Items\", \"Average Purchase Price\",\n",
    "                            \"Number of Purchases\", \"Total Revenue\"])\n",
    "\n",
    "total_analysis_df.style.format({\"Average Purchase Price\": \"${:.2f}\", \"Total Revenue\": \"${:.2f}\"})"
   ]
  },
  {
   "cell_type": "markdown",
   "metadata": {},
   "source": [
    "## Gender Demographics"
   ]
  },
  {
   "cell_type": "markdown",
   "metadata": {},
   "source": [
    "* Percentage and Count of Male Players\n",
    "\n",
    "\n",
    "* Percentage and Count of Female Players\n",
    "\n",
    "\n",
    "* Percentage and Count of Other / Non-Disclosed\n",
    "\n",
    "\n"
   ]
  },
  {
   "cell_type": "code",
   "execution_count": 17,
   "metadata": {},
   "outputs": [
    {
     "data": {
      "text/html": [
       "<style  type=\"text/css\" >\n",
       "</style><table id=\"T_e6867be4_92eb_11e9_8492_485ab6199104\" ><thead>    <tr>        <th class=\"blank level0\" ></th>        <th class=\"col_heading level0 col0\" >Total Count</th>        <th class=\"col_heading level0 col1\" >Percentage of Players</th>    </tr>    <tr>        <th class=\"index_name level0\" >Gender</th>        <th class=\"blank\" ></th>        <th class=\"blank\" ></th>    </tr></thead><tbody>\n",
       "                <tr>\n",
       "                        <th id=\"T_e6867be4_92eb_11e9_8492_485ab6199104level0_row0\" class=\"row_heading level0 row0\" >Male</th>\n",
       "                        <td id=\"T_e6867be4_92eb_11e9_8492_485ab6199104row0_col0\" class=\"data row0 col0\" >484</td>\n",
       "                        <td id=\"T_e6867be4_92eb_11e9_8492_485ab6199104row0_col1\" class=\"data row0 col1\" >84.03%</td>\n",
       "            </tr>\n",
       "            <tr>\n",
       "                        <th id=\"T_e6867be4_92eb_11e9_8492_485ab6199104level0_row1\" class=\"row_heading level0 row1\" >Female</th>\n",
       "                        <td id=\"T_e6867be4_92eb_11e9_8492_485ab6199104row1_col0\" class=\"data row1 col0\" >81</td>\n",
       "                        <td id=\"T_e6867be4_92eb_11e9_8492_485ab6199104row1_col1\" class=\"data row1 col1\" >14.06%</td>\n",
       "            </tr>\n",
       "            <tr>\n",
       "                        <th id=\"T_e6867be4_92eb_11e9_8492_485ab6199104level0_row2\" class=\"row_heading level0 row2\" >Other / Non-Disclosed</th>\n",
       "                        <td id=\"T_e6867be4_92eb_11e9_8492_485ab6199104row2_col0\" class=\"data row2 col0\" >11</td>\n",
       "                        <td id=\"T_e6867be4_92eb_11e9_8492_485ab6199104row2_col1\" class=\"data row2 col1\" >1.91%</td>\n",
       "            </tr>\n",
       "    </tbody></table>"
      ],
      "text/plain": [
       "<pandas.io.formats.style.Styler at 0x84463635f8>"
      ]
     },
     "execution_count": 17,
     "metadata": {},
     "output_type": "execute_result"
    }
   ],
   "source": [
    "fullcount = purchase_data[\"SN\"].nunique()\n",
    "malecount = purchase_data[purchase_data[\"Gender\"] == \"Male\"][\"SN\"].nunique()\n",
    "femalecount = purchase_data[purchase_data[\"Gender\"] == \"Female\"][\"SN\"].nunique()\n",
    "othercount = fullcount - malecount - femalecount\n",
    "maleperc = ((malecount/fullcount)*100)\n",
    "femaleperc = ((femalecount/fullcount)*100)\n",
    "otherperc = ((othercount/fullcount)*100)\n",
    "\n",
    "gender_demo_df = pd.DataFrame({\"Gender\": [\"Male\", \"Female\", \"Other / Non-Disclosed\"], \n",
    "                                        \"Total Count\": [malecount, femalecount, othercount],\n",
    "                                        \"Percentage of Players\": [maleperc, femaleperc, otherperc]},\n",
    "                                          columns = [\"Gender\", \"Total Count\", \"Percentage of Players\"])\n",
    "                                        \n",
    "gender_demo_final = gender_demo_df.set_index(\"Gender\")\n",
    "gender_demo_final.style.format({\"Percentage of Players\": \"{:.2f}%\"})   "
   ]
  },
  {
   "cell_type": "markdown",
   "metadata": {},
   "source": [
    "\n",
    "## Purchasing Analysis (Gender)"
   ]
  },
  {
   "cell_type": "markdown",
   "metadata": {},
   "source": [
    "* Run basic calculations to obtain purchase count, avg. purchase price, avg. purchase total per person etc. by gender\n",
    "\n",
    "\n",
    "\n",
    "\n",
    "* Create a summary data frame to hold the results\n",
    "\n",
    "\n",
    "* Optional: give the displayed data cleaner formatting\n",
    "\n",
    "\n",
    "* Display the summary data frame"
   ]
  },
  {
   "cell_type": "code",
   "execution_count": 19,
   "metadata": {},
   "outputs": [
    {
     "data": {
      "text/html": [
       "<style  type=\"text/css\" >\n",
       "</style><table id=\"T_d20f48c2_92ec_11e9_ab95_485ab6199104\" ><thead>    <tr>        <th class=\"blank level0\" ></th>        <th class=\"col_heading level0 col0\" >Purchase Count</th>        <th class=\"col_heading level0 col1\" >Average Purchase Price</th>        <th class=\"col_heading level0 col2\" >Total Purchase Value</th>        <th class=\"col_heading level0 col3\" >Avg Total Purchase per Person</th>    </tr>    <tr>        <th class=\"index_name level0\" >Gender</th>        <th class=\"blank\" ></th>        <th class=\"blank\" ></th>        <th class=\"blank\" ></th>        <th class=\"blank\" ></th>    </tr></thead><tbody>\n",
       "                <tr>\n",
       "                        <th id=\"T_d20f48c2_92ec_11e9_ab95_485ab6199104level0_row0\" class=\"row_heading level0 row0\" >Male</th>\n",
       "                        <td id=\"T_d20f48c2_92ec_11e9_ab95_485ab6199104row0_col0\" class=\"data row0 col0\" >652</td>\n",
       "                        <td id=\"T_d20f48c2_92ec_11e9_ab95_485ab6199104row0_col1\" class=\"data row0 col1\" >$3.02</td>\n",
       "                        <td id=\"T_d20f48c2_92ec_11e9_ab95_485ab6199104row0_col2\" class=\"data row0 col2\" >$1967.64</td>\n",
       "                        <td id=\"T_d20f48c2_92ec_11e9_ab95_485ab6199104row0_col3\" class=\"data row0 col3\" >$4.07</td>\n",
       "            </tr>\n",
       "            <tr>\n",
       "                        <th id=\"T_d20f48c2_92ec_11e9_ab95_485ab6199104level0_row1\" class=\"row_heading level0 row1\" >Female</th>\n",
       "                        <td id=\"T_d20f48c2_92ec_11e9_ab95_485ab6199104row1_col0\" class=\"data row1 col0\" >113</td>\n",
       "                        <td id=\"T_d20f48c2_92ec_11e9_ab95_485ab6199104row1_col1\" class=\"data row1 col1\" >$3.20</td>\n",
       "                        <td id=\"T_d20f48c2_92ec_11e9_ab95_485ab6199104row1_col2\" class=\"data row1 col2\" >$361.94</td>\n",
       "                        <td id=\"T_d20f48c2_92ec_11e9_ab95_485ab6199104row1_col3\" class=\"data row1 col3\" >$4.47</td>\n",
       "            </tr>\n",
       "            <tr>\n",
       "                        <th id=\"T_d20f48c2_92ec_11e9_ab95_485ab6199104level0_row2\" class=\"row_heading level0 row2\" >Other / Non-Disclosed</th>\n",
       "                        <td id=\"T_d20f48c2_92ec_11e9_ab95_485ab6199104row2_col0\" class=\"data row2 col0\" >15</td>\n",
       "                        <td id=\"T_d20f48c2_92ec_11e9_ab95_485ab6199104row2_col1\" class=\"data row2 col1\" >$3.35</td>\n",
       "                        <td id=\"T_d20f48c2_92ec_11e9_ab95_485ab6199104row2_col2\" class=\"data row2 col2\" >$50.19</td>\n",
       "                        <td id=\"T_d20f48c2_92ec_11e9_ab95_485ab6199104row2_col3\" class=\"data row2 col3\" >$4.56</td>\n",
       "            </tr>\n",
       "    </tbody></table>"
      ],
      "text/plain": [
       "<pandas.io.formats.style.Styler at 0x8446368588>"
      ]
     },
     "execution_count": 19,
     "metadata": {},
     "output_type": "execute_result"
    }
   ],
   "source": [
    "malepurch = purchase_data[purchase_data[\"Gender\"] == \"Male\"][\"Price\"].count()\n",
    "femalepurch = purchase_data[purchase_data[\"Gender\"] == \"Female\"][\"Price\"].count()\n",
    "otherpurch = totalpurchases - malepurch - femalepurch\n",
    "mpriceavg = purchase_data[purchase_data[\"Gender\"] == \"Male\"]['Price'].mean()\n",
    "fpriceavg = purchase_data[purchase_data[\"Gender\"] == \"Female\"]['Price'].mean()\n",
    "opriceavg = purchase_data[purchase_data[\"Gender\"] == \"Other / Non-Disclosed\"]['Price'].mean()\n",
    "mpricetot = purchase_data[purchase_data[\"Gender\"] == \"Male\"]['Price'].sum()\n",
    "fpricetot = purchase_data[purchase_data[\"Gender\"] == \"Female\"]['Price'].sum()\n",
    "opricetot = purchase_data[purchase_data[\"Gender\"] == \"Other / Non-Disclosed\"]['Price'].sum()\n",
    "mnorm = mpricetot/malecount\n",
    "fnorm = fpricetot/femalecount\n",
    "onorm = opricetot/othercount\n",
    "\n",
    "gender_purchase_df = pd.DataFrame({\"Gender\": [\"Male\", \"Female\", \"Other / Non-Disclosed\"], \"Purchase Count\": [malepurch, femalepurch, otherpurch],\n",
    "                                        \"Average Purchase Price\": [mpriceavg, fpriceavg, opriceavg], \"Total Purchase Value\": [mpricetot, fpricetot, opricetot],\n",
    "                                \"Avg Total Purchase per Person\": [mnorm, fnorm, onorm]}, columns = \n",
    "                                        [\"Gender\", \"Purchase Count\", \"Average Purchase Price\", \"Total Purchase Value\", \"Avg Total Purchase per Person\"])\n",
    "                                        \n",
    "gender_purchase_final = gender_purchase_df.set_index(\"Gender\")\n",
    "gender_purchase_final.style.format({\"Average Purchase Price\": \"${:.2f}\", \"Total Purchase Value\": \"${:.2f}\", \"Avg Total Purchase per Person\": \"${:.2f}\"})"
   ]
  },
  {
   "cell_type": "markdown",
   "metadata": {},
   "source": [
    "## Age Demographics"
   ]
  },
  {
   "cell_type": "markdown",
   "metadata": {},
   "source": [
    "* Establish bins for ages\n",
    "\n",
    "\n",
    "* Categorize the existing players using the age bins. Hint: use pd.cut()\n",
    "\n",
    "\n",
    "* Calculate the numbers and percentages by age group\n",
    "\n",
    "\n",
    "* Create a summary data frame to hold the results\n",
    "\n",
    "\n",
    "* Optional: round the percentage column to two decimal points\n",
    "\n",
    "\n",
    "* Display Age Demographics Table\n"
   ]
  },
  {
   "cell_type": "code",
   "execution_count": 30,
   "metadata": {},
   "outputs": [
    {
     "data": {
      "text/html": [
       "<style  type=\"text/css\" >\n",
       "</style><table id=\"T_67861654_92ee_11e9_97ff_485ab6199104\" ><thead>    <tr>        <th class=\"blank level0\" ></th>        <th class=\"col_heading level0 col0\" >Total Count</th>        <th class=\"col_heading level0 col1\" >Percentage of Players</th>    </tr>    <tr>        <th class=\"index_name level0\" >Age</th>        <th class=\"blank\" ></th>        <th class=\"blank\" ></th>    </tr></thead><tbody>\n",
       "                <tr>\n",
       "                        <th id=\"T_67861654_92ee_11e9_97ff_485ab6199104level0_row0\" class=\"row_heading level0 row0\" ><10</th>\n",
       "                        <td id=\"T_67861654_92ee_11e9_97ff_485ab6199104row0_col0\" class=\"data row0 col0\" >17</td>\n",
       "                        <td id=\"T_67861654_92ee_11e9_97ff_485ab6199104row0_col1\" class=\"data row0 col1\" >2.95%</td>\n",
       "            </tr>\n",
       "            <tr>\n",
       "                        <th id=\"T_67861654_92ee_11e9_97ff_485ab6199104level0_row1\" class=\"row_heading level0 row1\" >10-14</th>\n",
       "                        <td id=\"T_67861654_92ee_11e9_97ff_485ab6199104row1_col0\" class=\"data row1 col0\" >22</td>\n",
       "                        <td id=\"T_67861654_92ee_11e9_97ff_485ab6199104row1_col1\" class=\"data row1 col1\" >3.82%</td>\n",
       "            </tr>\n",
       "            <tr>\n",
       "                        <th id=\"T_67861654_92ee_11e9_97ff_485ab6199104level0_row2\" class=\"row_heading level0 row2\" >15-19</th>\n",
       "                        <td id=\"T_67861654_92ee_11e9_97ff_485ab6199104row2_col0\" class=\"data row2 col0\" >107</td>\n",
       "                        <td id=\"T_67861654_92ee_11e9_97ff_485ab6199104row2_col1\" class=\"data row2 col1\" >18.58%</td>\n",
       "            </tr>\n",
       "            <tr>\n",
       "                        <th id=\"T_67861654_92ee_11e9_97ff_485ab6199104level0_row3\" class=\"row_heading level0 row3\" >20-24</th>\n",
       "                        <td id=\"T_67861654_92ee_11e9_97ff_485ab6199104row3_col0\" class=\"data row3 col0\" >258</td>\n",
       "                        <td id=\"T_67861654_92ee_11e9_97ff_485ab6199104row3_col1\" class=\"data row3 col1\" >44.79%</td>\n",
       "            </tr>\n",
       "            <tr>\n",
       "                        <th id=\"T_67861654_92ee_11e9_97ff_485ab6199104level0_row4\" class=\"row_heading level0 row4\" >25-29</th>\n",
       "                        <td id=\"T_67861654_92ee_11e9_97ff_485ab6199104row4_col0\" class=\"data row4 col0\" >77</td>\n",
       "                        <td id=\"T_67861654_92ee_11e9_97ff_485ab6199104row4_col1\" class=\"data row4 col1\" >13.37%</td>\n",
       "            </tr>\n",
       "            <tr>\n",
       "                        <th id=\"T_67861654_92ee_11e9_97ff_485ab6199104level0_row5\" class=\"row_heading level0 row5\" >30-34</th>\n",
       "                        <td id=\"T_67861654_92ee_11e9_97ff_485ab6199104row5_col0\" class=\"data row5 col0\" >52</td>\n",
       "                        <td id=\"T_67861654_92ee_11e9_97ff_485ab6199104row5_col1\" class=\"data row5 col1\" >9.03%</td>\n",
       "            </tr>\n",
       "            <tr>\n",
       "                        <th id=\"T_67861654_92ee_11e9_97ff_485ab6199104level0_row6\" class=\"row_heading level0 row6\" >35-39</th>\n",
       "                        <td id=\"T_67861654_92ee_11e9_97ff_485ab6199104row6_col0\" class=\"data row6 col0\" >31</td>\n",
       "                        <td id=\"T_67861654_92ee_11e9_97ff_485ab6199104row6_col1\" class=\"data row6 col1\" >5.38%</td>\n",
       "            </tr>\n",
       "            <tr>\n",
       "                        <th id=\"T_67861654_92ee_11e9_97ff_485ab6199104level0_row7\" class=\"row_heading level0 row7\" >40-44</th>\n",
       "                        <td id=\"T_67861654_92ee_11e9_97ff_485ab6199104row7_col0\" class=\"data row7 col0\" >11</td>\n",
       "                        <td id=\"T_67861654_92ee_11e9_97ff_485ab6199104row7_col1\" class=\"data row7 col1\" >1.91%</td>\n",
       "            </tr>\n",
       "            <tr>\n",
       "                        <th id=\"T_67861654_92ee_11e9_97ff_485ab6199104level0_row8\" class=\"row_heading level0 row8\" >45-49</th>\n",
       "                        <td id=\"T_67861654_92ee_11e9_97ff_485ab6199104row8_col0\" class=\"data row8 col0\" >1</td>\n",
       "                        <td id=\"T_67861654_92ee_11e9_97ff_485ab6199104row8_col1\" class=\"data row8 col1\" >0.17%</td>\n",
       "            </tr>\n",
       "    </tbody></table>"
      ],
      "text/plain": [
       "<pandas.io.formats.style.Styler at 0x8446390ef0>"
      ]
     },
     "execution_count": 30,
     "metadata": {},
     "output_type": "execute_result"
    }
   ],
   "source": [
    "#create age parameters - 4 year length\n",
    "#create dataframe of unique players in each age group, find percentage against full count of players\n",
    "\n",
    "tenyears = purchase_data[purchase_data[\"Age\"] <10]\n",
    "loteens = purchase_data[(purchase_data[\"Age\"] >=10) & (purchase_data[\"Age\"] <=14)]\n",
    "hiteens = purchase_data[(purchase_data[\"Age\"] >=15) & (purchase_data[\"Age\"] <=19)]\n",
    "lotwent = purchase_data[(purchase_data[\"Age\"] >=20) & (purchase_data[\"Age\"] <=24)]\n",
    "hitwent = purchase_data[(purchase_data[\"Age\"] >=25) & (purchase_data[\"Age\"] <=29)]\n",
    "lothirt = purchase_data[(purchase_data[\"Age\"] >=30) & (purchase_data[\"Age\"] <=34)]\n",
    "hithirt = purchase_data[(purchase_data[\"Age\"] >=35) & (purchase_data[\"Age\"] <=39)]\n",
    "loforty = purchase_data[(purchase_data[\"Age\"] >=40) & (purchase_data[\"Age\"] <=44)]\n",
    "hiforty = purchase_data[(purchase_data[\"Age\"] >=45) & (purchase_data[\"Age\"] <=49)]\n",
    "\n",
    "age_demo_df = pd.DataFrame({\"Age\": [\"<10\", \"10-14\", \"15-19\", \"20-24\", \"25-29\", \"30-34\", \"35-39\", \"40-44\", \"45-49\"],\n",
    "                            \"Total Count\": [tenyears[\"SN\"].nunique(), loteens[\"SN\"].nunique(), hiteens[\"SN\"].nunique(), lotwent[\"SN\"].nunique(), hitwent[\"SN\"].nunique(), lothirt[\"SN\"].nunique(), hithirt[\"SN\"].nunique(), loforty[\"SN\"].nunique(), hiforty[\"SN\"].nunique()],\n",
    "                            \"Percentage of Players\": [(tenyears[\"SN\"].nunique()/fullcount)*100, (loteens[\"SN\"].nunique()/fullcount)*100, (hiteens[\"SN\"].nunique()/fullcount)*100, (lotwent[\"SN\"].nunique()/fullcount)*100, (hitwent[\"SN\"].nunique()/fullcount)*100, (lothirt[\"SN\"].nunique()/fullcount)*100, (hithirt[\"SN\"].nunique()/fullcount)*100, (loforty[\"SN\"].nunique()/fullcount)*100, (hiforty[\"SN\"].nunique()/fullcount)*100],\n",
    "                       })\n",
    "\n",
    "age_demo_final = age_demo_df.set_index(\"Age\")\n",
    "age_demo_final.style.format({\"Percentage of Players\": \"{:.2f}%\"})"
   ]
  },
  {
   "cell_type": "markdown",
   "metadata": {},
   "source": [
    "## Purchasing Analysis (Age)"
   ]
  },
  {
   "cell_type": "markdown",
   "metadata": {},
   "source": [
    "* Bin the purchase_data data frame by age\n",
    "\n",
    "\n",
    "* Run basic calculations to obtain purchase count, avg. purchase price, avg. purchase total per person etc. in the table below\n",
    "\n",
    "\n",
    "* Create a summary data frame to hold the results\n",
    "\n",
    "\n",
    "* Optional: give the displayed data cleaner formatting\n",
    "\n",
    "\n",
    "* Display the summary data frame"
   ]
  },
  {
   "cell_type": "code",
   "execution_count": 31,
   "metadata": {},
   "outputs": [
    {
     "data": {
      "text/html": [
       "<style  type=\"text/css\" >\n",
       "</style><table id=\"T_32ab8bd2_939b_11e9_a1ab_485ab6199104\" ><thead>    <tr>        <th class=\"blank level0\" ></th>        <th class=\"col_heading level0 col0\" >Purchase Count</th>        <th class=\"col_heading level0 col1\" >Average Purchase Price</th>        <th class=\"col_heading level0 col2\" >Total Purchase Value</th>        <th class=\"col_heading level0 col3\" >Avg Total Purchase per Person</th>    </tr>    <tr>        <th class=\"index_name level0\" >Age</th>        <th class=\"blank\" ></th>        <th class=\"blank\" ></th>        <th class=\"blank\" ></th>        <th class=\"blank\" ></th>    </tr></thead><tbody>\n",
       "                <tr>\n",
       "                        <th id=\"T_32ab8bd2_939b_11e9_a1ab_485ab6199104level0_row0\" class=\"row_heading level0 row0\" ><10</th>\n",
       "                        <td id=\"T_32ab8bd2_939b_11e9_a1ab_485ab6199104row0_col0\" class=\"data row0 col0\" >23</td>\n",
       "                        <td id=\"T_32ab8bd2_939b_11e9_a1ab_485ab6199104row0_col1\" class=\"data row0 col1\" >$3.35</td>\n",
       "                        <td id=\"T_32ab8bd2_939b_11e9_a1ab_485ab6199104row0_col2\" class=\"data row0 col2\" >$77.13</td>\n",
       "                        <td id=\"T_32ab8bd2_939b_11e9_a1ab_485ab6199104row0_col3\" class=\"data row0 col3\" >$4.54</td>\n",
       "            </tr>\n",
       "            <tr>\n",
       "                        <th id=\"T_32ab8bd2_939b_11e9_a1ab_485ab6199104level0_row1\" class=\"row_heading level0 row1\" >10-14</th>\n",
       "                        <td id=\"T_32ab8bd2_939b_11e9_a1ab_485ab6199104row1_col0\" class=\"data row1 col0\" >28</td>\n",
       "                        <td id=\"T_32ab8bd2_939b_11e9_a1ab_485ab6199104row1_col1\" class=\"data row1 col1\" >$2.96</td>\n",
       "                        <td id=\"T_32ab8bd2_939b_11e9_a1ab_485ab6199104row1_col2\" class=\"data row1 col2\" >$82.78</td>\n",
       "                        <td id=\"T_32ab8bd2_939b_11e9_a1ab_485ab6199104row1_col3\" class=\"data row1 col3\" >$3.76</td>\n",
       "            </tr>\n",
       "            <tr>\n",
       "                        <th id=\"T_32ab8bd2_939b_11e9_a1ab_485ab6199104level0_row2\" class=\"row_heading level0 row2\" >15-19</th>\n",
       "                        <td id=\"T_32ab8bd2_939b_11e9_a1ab_485ab6199104row2_col0\" class=\"data row2 col0\" >136</td>\n",
       "                        <td id=\"T_32ab8bd2_939b_11e9_a1ab_485ab6199104row2_col1\" class=\"data row2 col1\" >$3.04</td>\n",
       "                        <td id=\"T_32ab8bd2_939b_11e9_a1ab_485ab6199104row2_col2\" class=\"data row2 col2\" >$412.89</td>\n",
       "                        <td id=\"T_32ab8bd2_939b_11e9_a1ab_485ab6199104row2_col3\" class=\"data row2 col3\" >$3.86</td>\n",
       "            </tr>\n",
       "            <tr>\n",
       "                        <th id=\"T_32ab8bd2_939b_11e9_a1ab_485ab6199104level0_row3\" class=\"row_heading level0 row3\" >20-24</th>\n",
       "                        <td id=\"T_32ab8bd2_939b_11e9_a1ab_485ab6199104row3_col0\" class=\"data row3 col0\" >365</td>\n",
       "                        <td id=\"T_32ab8bd2_939b_11e9_a1ab_485ab6199104row3_col1\" class=\"data row3 col1\" >$3.05</td>\n",
       "                        <td id=\"T_32ab8bd2_939b_11e9_a1ab_485ab6199104row3_col2\" class=\"data row3 col2\" >$1114.06</td>\n",
       "                        <td id=\"T_32ab8bd2_939b_11e9_a1ab_485ab6199104row3_col3\" class=\"data row3 col3\" >$4.32</td>\n",
       "            </tr>\n",
       "            <tr>\n",
       "                        <th id=\"T_32ab8bd2_939b_11e9_a1ab_485ab6199104level0_row4\" class=\"row_heading level0 row4\" >25-29</th>\n",
       "                        <td id=\"T_32ab8bd2_939b_11e9_a1ab_485ab6199104row4_col0\" class=\"data row4 col0\" >101</td>\n",
       "                        <td id=\"T_32ab8bd2_939b_11e9_a1ab_485ab6199104row4_col1\" class=\"data row4 col1\" >$2.90</td>\n",
       "                        <td id=\"T_32ab8bd2_939b_11e9_a1ab_485ab6199104row4_col2\" class=\"data row4 col2\" >$293.00</td>\n",
       "                        <td id=\"T_32ab8bd2_939b_11e9_a1ab_485ab6199104row4_col3\" class=\"data row4 col3\" >$3.81</td>\n",
       "            </tr>\n",
       "            <tr>\n",
       "                        <th id=\"T_32ab8bd2_939b_11e9_a1ab_485ab6199104level0_row5\" class=\"row_heading level0 row5\" >30-34</th>\n",
       "                        <td id=\"T_32ab8bd2_939b_11e9_a1ab_485ab6199104row5_col0\" class=\"data row5 col0\" >73</td>\n",
       "                        <td id=\"T_32ab8bd2_939b_11e9_a1ab_485ab6199104row5_col1\" class=\"data row5 col1\" >$2.93</td>\n",
       "                        <td id=\"T_32ab8bd2_939b_11e9_a1ab_485ab6199104row5_col2\" class=\"data row5 col2\" >$214.00</td>\n",
       "                        <td id=\"T_32ab8bd2_939b_11e9_a1ab_485ab6199104row5_col3\" class=\"data row5 col3\" >$4.12</td>\n",
       "            </tr>\n",
       "            <tr>\n",
       "                        <th id=\"T_32ab8bd2_939b_11e9_a1ab_485ab6199104level0_row6\" class=\"row_heading level0 row6\" >35-39</th>\n",
       "                        <td id=\"T_32ab8bd2_939b_11e9_a1ab_485ab6199104row6_col0\" class=\"data row6 col0\" >41</td>\n",
       "                        <td id=\"T_32ab8bd2_939b_11e9_a1ab_485ab6199104row6_col1\" class=\"data row6 col1\" >$3.60</td>\n",
       "                        <td id=\"T_32ab8bd2_939b_11e9_a1ab_485ab6199104row6_col2\" class=\"data row6 col2\" >$147.67</td>\n",
       "                        <td id=\"T_32ab8bd2_939b_11e9_a1ab_485ab6199104row6_col3\" class=\"data row6 col3\" >$4.76</td>\n",
       "            </tr>\n",
       "            <tr>\n",
       "                        <th id=\"T_32ab8bd2_939b_11e9_a1ab_485ab6199104level0_row7\" class=\"row_heading level0 row7\" >40-44</th>\n",
       "                        <td id=\"T_32ab8bd2_939b_11e9_a1ab_485ab6199104row7_col0\" class=\"data row7 col0\" >12</td>\n",
       "                        <td id=\"T_32ab8bd2_939b_11e9_a1ab_485ab6199104row7_col1\" class=\"data row7 col1\" >$3.04</td>\n",
       "                        <td id=\"T_32ab8bd2_939b_11e9_a1ab_485ab6199104row7_col2\" class=\"data row7 col2\" >$36.54</td>\n",
       "                        <td id=\"T_32ab8bd2_939b_11e9_a1ab_485ab6199104row7_col3\" class=\"data row7 col3\" >$3.32</td>\n",
       "            </tr>\n",
       "            <tr>\n",
       "                        <th id=\"T_32ab8bd2_939b_11e9_a1ab_485ab6199104level0_row8\" class=\"row_heading level0 row8\" >45-49</th>\n",
       "                        <td id=\"T_32ab8bd2_939b_11e9_a1ab_485ab6199104row8_col0\" class=\"data row8 col0\" >1</td>\n",
       "                        <td id=\"T_32ab8bd2_939b_11e9_a1ab_485ab6199104row8_col1\" class=\"data row8 col1\" >$1.70</td>\n",
       "                        <td id=\"T_32ab8bd2_939b_11e9_a1ab_485ab6199104row8_col2\" class=\"data row8 col2\" >$1.70</td>\n",
       "                        <td id=\"T_32ab8bd2_939b_11e9_a1ab_485ab6199104row8_col3\" class=\"data row8 col3\" >$1.70</td>\n",
       "            </tr>\n",
       "    </tbody></table>"
      ],
      "text/plain": [
       "<pandas.io.formats.style.Styler at 0x844639ec50>"
      ]
     },
     "execution_count": 31,
     "metadata": {},
     "output_type": "execute_result"
    }
   ],
   "source": [
    "age_purchasing_df = pd.DataFrame({\"Age\": [\"<10\", \"10-14\", \"15-19\", \"20-24\", \"25-29\", \"30-34\", \"35-39\", \"40-44\", \"45-49\"],\n",
    "                              \"Purchase Count\": [tenyears[\"Price\"].count(), loteens[\"Price\"].count(), hiteens[\"Price\"].count(), lotwent[\"Price\"].count(), hitwent[\"Price\"].count(), lothirt[\"Price\"].count(), hithirt[\"Price\"].count(), loforty[\"Price\"].count(), hiforty[\"Price\"].count()],\n",
    "                              \"Average Purchase Price\": [tenyears[\"Price\"].mean(), loteens[\"Price\"].mean(), hiteens[\"Price\"].mean(), lotwent[\"Price\"].mean(), hitwent[\"Price\"].mean(), lothirt[\"Price\"].mean(), hithirt[\"Price\"].mean(), loforty[\"Price\"].mean(), hiforty[\"Price\"].mean()], \n",
    "                              \"Total Purchase Value\": [tenyears[\"Price\"].sum(), loteens[\"Price\"].sum(), hiteens[\"Price\"].sum(), lotwent[\"Price\"].sum(), hitwent[\"Price\"].sum(), lothirt[\"Price\"].sum(), hithirt[\"Price\"].sum(), loforty[\"Price\"].sum(), hiforty[\"Price\"].sum()],\n",
    "                              \"Avg Total Purchase per Person\": [tenyears[\"Price\"].sum()/tenyears['SN'].nunique(), loteens[\"Price\"].sum()/loteens['SN'].nunique(), hiteens[\"Price\"].sum()/hiteens['SN'].nunique(), \n",
    "                                                    lotwent[\"Price\"].sum()/lotwent['SN'].nunique(), hitwent[\"Price\"].sum()/hitwent['SN'].nunique(), \n",
    "                                                    lothirt[\"Price\"].sum()/lothirt['SN'].nunique(), hithirt[\"Price\"].sum()/hithirt['SN'].nunique(), \n",
    "                                                    loforty[\"Price\"].sum()/loforty['SN'].nunique(), hiforty[\"Price\"].sum()/hiforty['SN'].nunique()]}, \n",
    "                             columns = \n",
    "                            [\"Age\", \"Purchase Count\", \"Average Purchase Price\", \"Total Purchase Value\", \"Avg Total Purchase per Person\"])\n",
    "\n",
    "age_purchasing_final = age_purchasing_df.set_index(\"Age\")\n",
    "\n",
    "age_purchasing_final.style.format({\"Average Purchase Price\": \"${:.2f}\", \"Total Purchase Value\": \"${:.2f}\", \"Avg Total Purchase per Person\": \"${:.2f}\"})"
   ]
  },
  {
   "cell_type": "markdown",
   "metadata": {},
   "source": [
    "## Top Spenders"
   ]
  },
  {
   "cell_type": "markdown",
   "metadata": {},
   "source": [
    "* Run basic calculations to obtain the results in the table below\n",
    "\n",
    "\n",
    "* Create a summary data frame to hold the results\n",
    "\n",
    "\n",
    "* Sort the total purchase value column in descending order\n",
    "\n",
    "\n",
    "* Optional: give the displayed data cleaner formatting\n",
    "\n",
    "\n",
    "* Display a preview of the summary data frame\n",
    "\n"
   ]
  },
  {
   "cell_type": "code",
   "execution_count": 33,
   "metadata": {},
   "outputs": [
    {
     "data": {
      "text/html": [
       "<style  type=\"text/css\" >\n",
       "</style><table id=\"T_70dbc774_939b_11e9_bb2d_485ab6199104\" ><thead>    <tr>        <th class=\"blank level0\" ></th>        <th class=\"col_heading level0 col0\" >Purchase Count</th>        <th class=\"col_heading level0 col1\" >Average Purchase Price</th>        <th class=\"col_heading level0 col2\" >Total Purchase Value</th>    </tr>    <tr>        <th class=\"index_name level0\" >SN</th>        <th class=\"blank\" ></th>        <th class=\"blank\" ></th>        <th class=\"blank\" ></th>    </tr></thead><tbody>\n",
       "                <tr>\n",
       "                        <th id=\"T_70dbc774_939b_11e9_bb2d_485ab6199104level0_row0\" class=\"row_heading level0 row0\" >Lisosia93</th>\n",
       "                        <td id=\"T_70dbc774_939b_11e9_bb2d_485ab6199104row0_col0\" class=\"data row0 col0\" >5</td>\n",
       "                        <td id=\"T_70dbc774_939b_11e9_bb2d_485ab6199104row0_col1\" class=\"data row0 col1\" >$3.79</td>\n",
       "                        <td id=\"T_70dbc774_939b_11e9_bb2d_485ab6199104row0_col2\" class=\"data row0 col2\" >$18.96</td>\n",
       "            </tr>\n",
       "            <tr>\n",
       "                        <th id=\"T_70dbc774_939b_11e9_bb2d_485ab6199104level0_row1\" class=\"row_heading level0 row1\" >Idastidru52</th>\n",
       "                        <td id=\"T_70dbc774_939b_11e9_bb2d_485ab6199104row1_col0\" class=\"data row1 col0\" >4</td>\n",
       "                        <td id=\"T_70dbc774_939b_11e9_bb2d_485ab6199104row1_col1\" class=\"data row1 col1\" >$3.86</td>\n",
       "                        <td id=\"T_70dbc774_939b_11e9_bb2d_485ab6199104row1_col2\" class=\"data row1 col2\" >$15.45</td>\n",
       "            </tr>\n",
       "            <tr>\n",
       "                        <th id=\"T_70dbc774_939b_11e9_bb2d_485ab6199104level0_row2\" class=\"row_heading level0 row2\" >Chamjask73</th>\n",
       "                        <td id=\"T_70dbc774_939b_11e9_bb2d_485ab6199104row2_col0\" class=\"data row2 col0\" >3</td>\n",
       "                        <td id=\"T_70dbc774_939b_11e9_bb2d_485ab6199104row2_col1\" class=\"data row2 col1\" >$4.61</td>\n",
       "                        <td id=\"T_70dbc774_939b_11e9_bb2d_485ab6199104row2_col2\" class=\"data row2 col2\" >$13.83</td>\n",
       "            </tr>\n",
       "            <tr>\n",
       "                        <th id=\"T_70dbc774_939b_11e9_bb2d_485ab6199104level0_row3\" class=\"row_heading level0 row3\" >Iral74</th>\n",
       "                        <td id=\"T_70dbc774_939b_11e9_bb2d_485ab6199104row3_col0\" class=\"data row3 col0\" >4</td>\n",
       "                        <td id=\"T_70dbc774_939b_11e9_bb2d_485ab6199104row3_col1\" class=\"data row3 col1\" >$3.40</td>\n",
       "                        <td id=\"T_70dbc774_939b_11e9_bb2d_485ab6199104row3_col2\" class=\"data row3 col2\" >$13.62</td>\n",
       "            </tr>\n",
       "            <tr>\n",
       "                        <th id=\"T_70dbc774_939b_11e9_bb2d_485ab6199104level0_row4\" class=\"row_heading level0 row4\" >Iskadarya95</th>\n",
       "                        <td id=\"T_70dbc774_939b_11e9_bb2d_485ab6199104row4_col0\" class=\"data row4 col0\" >3</td>\n",
       "                        <td id=\"T_70dbc774_939b_11e9_bb2d_485ab6199104row4_col1\" class=\"data row4 col1\" >$4.37</td>\n",
       "                        <td id=\"T_70dbc774_939b_11e9_bb2d_485ab6199104row4_col2\" class=\"data row4 col2\" >$13.10</td>\n",
       "            </tr>\n",
       "    </tbody></table>"
      ],
      "text/plain": [
       "<pandas.io.formats.style.Styler at 0x8446390240>"
      ]
     },
     "execution_count": 33,
     "metadata": {},
     "output_type": "execute_result"
    }
   ],
   "source": [
    "sn_total_purchase = purchase_data.groupby('SN')['Price'].sum().to_frame()\n",
    "sn_purchase_count = purchase_data.groupby('SN')['Price'].count().to_frame()\n",
    "sn_purchase_avg = purchase_data.groupby('SN')['Price'].mean().to_frame()\n",
    "\n",
    "sn_total_purchase.columns=[\"Total Purchase Value\"]\n",
    "join_one = sn_total_purchase.join(sn_purchase_count, how=\"left\")\n",
    "join_one.columns=[\"Total Purchase Value\", \"Purchase Count\"]\n",
    "\n",
    "join_two = join_one.join(sn_purchase_avg, how=\"inner\")\n",
    "join_two.columns=[\"Total Purchase Value\", \"Purchase Count\", \"Average Purchase Price\"]\n",
    "\n",
    "top_spenders_df = join_two[[\"Purchase Count\", \"Average Purchase Price\", \"Total Purchase Value\"]]\n",
    "top_spenders_final = top_spenders_df.sort_values('Total Purchase Value', ascending=False).head()\n",
    "top_spenders_final.style.format({\"Average Purchase Price\": \"${:.2f}\", \"Total Purchase Value\": \"${:.2f}\"})"
   ]
  },
  {
   "cell_type": "markdown",
   "metadata": {},
   "source": [
    "## Most Popular Items"
   ]
  },
  {
   "cell_type": "markdown",
   "metadata": {},
   "source": [
    "* Retrieve the Item ID, Item Name, and Item Price columns\n",
    "\n",
    "\n",
    "* Group by Item ID and Item Name. Perform calculations to obtain purchase count, item price, and total purchase value\n",
    "\n",
    "\n",
    "* Create a summary data frame to hold the results\n",
    "\n",
    "\n",
    "* Sort the purchase count column in descending order\n",
    "\n",
    "\n",
    "* Optional: give the displayed data cleaner formatting\n",
    "\n",
    "\n",
    "* Display a preview of the summary data frame\n",
    "\n"
   ]
  },
  {
   "cell_type": "code",
   "execution_count": 35,
   "metadata": {},
   "outputs": [
    {
     "data": {
      "text/html": [
       "<style  type=\"text/css\" >\n",
       "</style><table id=\"T_ea6a95ca_939b_11e9_9412_485ab6199104\" ><thead>    <tr>        <th class=\"blank\" ></th>        <th class=\"blank level0\" ></th>        <th class=\"col_heading level0 col0\" >Purchase Count</th>        <th class=\"col_heading level0 col1\" >Item Price</th>        <th class=\"col_heading level0 col2\" >Total Purchase Value</th>    </tr>    <tr>        <th class=\"index_name level0\" >Item ID</th>        <th class=\"index_name level1\" >Item Name</th>        <th class=\"blank\" ></th>        <th class=\"blank\" ></th>        <th class=\"blank\" ></th>    </tr></thead><tbody>\n",
       "                <tr>\n",
       "                        <th id=\"T_ea6a95ca_939b_11e9_9412_485ab6199104level0_row0\" class=\"row_heading level0 row0\" >178</th>\n",
       "                        <th id=\"T_ea6a95ca_939b_11e9_9412_485ab6199104level1_row0\" class=\"row_heading level1 row0\" >Oathbreaker, Last Hope of the Breaking Storm</th>\n",
       "                        <td id=\"T_ea6a95ca_939b_11e9_9412_485ab6199104row0_col0\" class=\"data row0 col0\" >12</td>\n",
       "                        <td id=\"T_ea6a95ca_939b_11e9_9412_485ab6199104row0_col1\" class=\"data row0 col1\" >$4.23</td>\n",
       "                        <td id=\"T_ea6a95ca_939b_11e9_9412_485ab6199104row0_col2\" class=\"data row0 col2\" >$50.76</td>\n",
       "            </tr>\n",
       "            <tr>\n",
       "                        <th id=\"T_ea6a95ca_939b_11e9_9412_485ab6199104level0_row1\" class=\"row_heading level0 row1\" >82</th>\n",
       "                        <th id=\"T_ea6a95ca_939b_11e9_9412_485ab6199104level1_row1\" class=\"row_heading level1 row1\" >Nirvana</th>\n",
       "                        <td id=\"T_ea6a95ca_939b_11e9_9412_485ab6199104row1_col0\" class=\"data row1 col0\" >9</td>\n",
       "                        <td id=\"T_ea6a95ca_939b_11e9_9412_485ab6199104row1_col1\" class=\"data row1 col1\" >$4.90</td>\n",
       "                        <td id=\"T_ea6a95ca_939b_11e9_9412_485ab6199104row1_col2\" class=\"data row1 col2\" >$44.10</td>\n",
       "            </tr>\n",
       "            <tr>\n",
       "                        <th id=\"T_ea6a95ca_939b_11e9_9412_485ab6199104level0_row2\" class=\"row_heading level0 row2\" >145</th>\n",
       "                        <th id=\"T_ea6a95ca_939b_11e9_9412_485ab6199104level1_row2\" class=\"row_heading level1 row2\" >Fiery Glass Crusader</th>\n",
       "                        <td id=\"T_ea6a95ca_939b_11e9_9412_485ab6199104row2_col0\" class=\"data row2 col0\" >9</td>\n",
       "                        <td id=\"T_ea6a95ca_939b_11e9_9412_485ab6199104row2_col1\" class=\"data row2 col1\" >$4.58</td>\n",
       "                        <td id=\"T_ea6a95ca_939b_11e9_9412_485ab6199104row2_col2\" class=\"data row2 col2\" >$41.22</td>\n",
       "            </tr>\n",
       "            <tr>\n",
       "                        <th id=\"T_ea6a95ca_939b_11e9_9412_485ab6199104level0_row3\" class=\"row_heading level0 row3\" >108</th>\n",
       "                        <th id=\"T_ea6a95ca_939b_11e9_9412_485ab6199104level1_row3\" class=\"row_heading level1 row3\" >Extraction, Quickblade Of Trembling Hands</th>\n",
       "                        <td id=\"T_ea6a95ca_939b_11e9_9412_485ab6199104row3_col0\" class=\"data row3 col0\" >9</td>\n",
       "                        <td id=\"T_ea6a95ca_939b_11e9_9412_485ab6199104row3_col1\" class=\"data row3 col1\" >$3.53</td>\n",
       "                        <td id=\"T_ea6a95ca_939b_11e9_9412_485ab6199104row3_col2\" class=\"data row3 col2\" >$31.77</td>\n",
       "            </tr>\n",
       "            <tr>\n",
       "                        <th id=\"T_ea6a95ca_939b_11e9_9412_485ab6199104level0_row4\" class=\"row_heading level0 row4\" >103</th>\n",
       "                        <th id=\"T_ea6a95ca_939b_11e9_9412_485ab6199104level1_row4\" class=\"row_heading level1 row4\" >Singed Scalpel</th>\n",
       "                        <td id=\"T_ea6a95ca_939b_11e9_9412_485ab6199104row4_col0\" class=\"data row4 col0\" >8</td>\n",
       "                        <td id=\"T_ea6a95ca_939b_11e9_9412_485ab6199104row4_col1\" class=\"data row4 col1\" >$4.35</td>\n",
       "                        <td id=\"T_ea6a95ca_939b_11e9_9412_485ab6199104row4_col2\" class=\"data row4 col2\" >$34.80</td>\n",
       "            </tr>\n",
       "            <tr>\n",
       "                        <th id=\"T_ea6a95ca_939b_11e9_9412_485ab6199104level0_row5\" class=\"row_heading level0 row5\" >60</th>\n",
       "                        <th id=\"T_ea6a95ca_939b_11e9_9412_485ab6199104level1_row5\" class=\"row_heading level1 row5\" >Wolf</th>\n",
       "                        <td id=\"T_ea6a95ca_939b_11e9_9412_485ab6199104row5_col0\" class=\"data row5 col0\" >8</td>\n",
       "                        <td id=\"T_ea6a95ca_939b_11e9_9412_485ab6199104row5_col1\" class=\"data row5 col1\" >$3.54</td>\n",
       "                        <td id=\"T_ea6a95ca_939b_11e9_9412_485ab6199104row5_col2\" class=\"data row5 col2\" >$28.32</td>\n",
       "            </tr>\n",
       "    </tbody></table>"
      ],
      "text/plain": [
       "<pandas.io.formats.style.Styler at 0x84463b35c0>"
      ]
     },
     "execution_count": 35,
     "metadata": {},
     "output_type": "execute_result"
    }
   ],
   "source": [
    "#merge dataframes to find purchase count, total purchase value for items\n",
    "#reset indices to dataframes can be merged on specific elements\n",
    "premergeone = purchase_data.groupby(\"Item Name\").sum().reset_index()\n",
    "premergetwo = purchase_data.groupby(\"Item ID\").sum().reset_index()\n",
    "premergethree = purchase_data.groupby(\"Item Name\").count().reset_index()\n",
    "\n",
    "#merge dataframes\n",
    "mergeone = pd.merge(premergeone, premergetwo, on=\"Price\")\n",
    "mergetwo = pd.merge(premergethree, mergeone, on=\"Item Name\")\n",
    "\n",
    "#start to create final dataframe by manipulating data\n",
    "mergetwo[\"Gender\"] = (mergetwo[\"Price_y\"]/mergetwo[\"Item ID\"]).round(2)\n",
    "\n",
    "mergetwo_renamed = mergetwo.rename(columns={\"Age\": \"Purchase Count\", \"Gender\": \"Item Price\", \"Item ID\": \"null\", \"Price_y\": \"Total Purchase Value\", \"Item ID_y\": \"Item ID\"})\n",
    "\n",
    "#grab columns we are looking for\n",
    "clean_df = mergetwo_renamed[[\"Item Name\", \"Item ID\", \"Purchase Count\", \"Item Price\", \"Total Purchase Value\"]]\n",
    "\n",
    "prefinal_df = clean_df.set_index(['Item ID', 'Item Name'])\n",
    "popular_items_final = prefinal_df.sort_values('Purchase Count', ascending=False).head(6)\n",
    "popular_items_final.style.format({\"Item Price\": \"${:.2f}\", \"Total Purchase Value\": \"${:.2f}\"})"
   ]
  },
  {
   "cell_type": "markdown",
   "metadata": {},
   "source": [
    "## Most Profitable Items"
   ]
  },
  {
   "cell_type": "markdown",
   "metadata": {},
   "source": [
    "* Sort the above table by total purchase value in descending order\n",
    "\n",
    "\n",
    "* Optional: give the displayed data cleaner formatting\n",
    "\n",
    "\n",
    "* Display a preview of the data frame\n",
    "\n"
   ]
  },
  {
   "cell_type": "code",
   "execution_count": 36,
   "metadata": {
    "scrolled": true
   },
   "outputs": [
    {
     "data": {
      "text/html": [
       "<style  type=\"text/css\" >\n",
       "</style><table id=\"T_0ef774e4_939c_11e9_a9f6_485ab6199104\" ><thead>    <tr>        <th class=\"blank\" ></th>        <th class=\"blank level0\" ></th>        <th class=\"col_heading level0 col0\" >Purchase Count</th>        <th class=\"col_heading level0 col1\" >Item Price</th>        <th class=\"col_heading level0 col2\" >Total Purchase Value</th>    </tr>    <tr>        <th class=\"index_name level0\" >Item ID</th>        <th class=\"index_name level1\" >Item Name</th>        <th class=\"blank\" ></th>        <th class=\"blank\" ></th>        <th class=\"blank\" ></th>    </tr></thead><tbody>\n",
       "                <tr>\n",
       "                        <th id=\"T_0ef774e4_939c_11e9_a9f6_485ab6199104level0_row0\" class=\"row_heading level0 row0\" >178</th>\n",
       "                        <th id=\"T_0ef774e4_939c_11e9_a9f6_485ab6199104level1_row0\" class=\"row_heading level1 row0\" >Oathbreaker, Last Hope of the Breaking Storm</th>\n",
       "                        <td id=\"T_0ef774e4_939c_11e9_a9f6_485ab6199104row0_col0\" class=\"data row0 col0\" >12</td>\n",
       "                        <td id=\"T_0ef774e4_939c_11e9_a9f6_485ab6199104row0_col1\" class=\"data row0 col1\" >$4.23</td>\n",
       "                        <td id=\"T_0ef774e4_939c_11e9_a9f6_485ab6199104row0_col2\" class=\"data row0 col2\" >$50.76</td>\n",
       "            </tr>\n",
       "            <tr>\n",
       "                        <th id=\"T_0ef774e4_939c_11e9_a9f6_485ab6199104level0_row1\" class=\"row_heading level0 row1\" >82</th>\n",
       "                        <th id=\"T_0ef774e4_939c_11e9_a9f6_485ab6199104level1_row1\" class=\"row_heading level1 row1\" >Nirvana</th>\n",
       "                        <td id=\"T_0ef774e4_939c_11e9_a9f6_485ab6199104row1_col0\" class=\"data row1 col0\" >9</td>\n",
       "                        <td id=\"T_0ef774e4_939c_11e9_a9f6_485ab6199104row1_col1\" class=\"data row1 col1\" >$4.90</td>\n",
       "                        <td id=\"T_0ef774e4_939c_11e9_a9f6_485ab6199104row1_col2\" class=\"data row1 col2\" >$44.10</td>\n",
       "            </tr>\n",
       "            <tr>\n",
       "                        <th id=\"T_0ef774e4_939c_11e9_a9f6_485ab6199104level0_row2\" class=\"row_heading level0 row2\" >145</th>\n",
       "                        <th id=\"T_0ef774e4_939c_11e9_a9f6_485ab6199104level1_row2\" class=\"row_heading level1 row2\" >Fiery Glass Crusader</th>\n",
       "                        <td id=\"T_0ef774e4_939c_11e9_a9f6_485ab6199104row2_col0\" class=\"data row2 col0\" >9</td>\n",
       "                        <td id=\"T_0ef774e4_939c_11e9_a9f6_485ab6199104row2_col1\" class=\"data row2 col1\" >$4.58</td>\n",
       "                        <td id=\"T_0ef774e4_939c_11e9_a9f6_485ab6199104row2_col2\" class=\"data row2 col2\" >$41.22</td>\n",
       "            </tr>\n",
       "            <tr>\n",
       "                        <th id=\"T_0ef774e4_939c_11e9_a9f6_485ab6199104level0_row3\" class=\"row_heading level0 row3\" >103</th>\n",
       "                        <th id=\"T_0ef774e4_939c_11e9_a9f6_485ab6199104level1_row3\" class=\"row_heading level1 row3\" >Singed Scalpel</th>\n",
       "                        <td id=\"T_0ef774e4_939c_11e9_a9f6_485ab6199104row3_col0\" class=\"data row3 col0\" >8</td>\n",
       "                        <td id=\"T_0ef774e4_939c_11e9_a9f6_485ab6199104row3_col1\" class=\"data row3 col1\" >$4.35</td>\n",
       "                        <td id=\"T_0ef774e4_939c_11e9_a9f6_485ab6199104row3_col2\" class=\"data row3 col2\" >$34.80</td>\n",
       "            </tr>\n",
       "            <tr>\n",
       "                        <th id=\"T_0ef774e4_939c_11e9_a9f6_485ab6199104level0_row4\" class=\"row_heading level0 row4\" >59</th>\n",
       "                        <th id=\"T_0ef774e4_939c_11e9_a9f6_485ab6199104level1_row4\" class=\"row_heading level1 row4\" >Lightning, Etcher of the King</th>\n",
       "                        <td id=\"T_0ef774e4_939c_11e9_a9f6_485ab6199104row4_col0\" class=\"data row4 col0\" >8</td>\n",
       "                        <td id=\"T_0ef774e4_939c_11e9_a9f6_485ab6199104row4_col1\" class=\"data row4 col1\" >$4.23</td>\n",
       "                        <td id=\"T_0ef774e4_939c_11e9_a9f6_485ab6199104row4_col2\" class=\"data row4 col2\" >$33.84</td>\n",
       "            </tr>\n",
       "    </tbody></table>"
      ],
      "text/plain": [
       "<pandas.io.formats.style.Styler at 0x844639b320>"
      ]
     },
     "execution_count": 36,
     "metadata": {},
     "output_type": "execute_result"
    }
   ],
   "source": [
    "#use prefinal dataframe from prior to step to find most profitable items\n",
    "\n",
    "profit_items_final = prefinal_df.sort_values('Total Purchase Value', ascending=False).head()\n",
    "profit_items_final.style.format({\"Item Price\": \"${:.2f}\", \"Total Purchase Value\": \"${:.2f}\"})"
   ]
  },
  {
   "cell_type": "code",
   "execution_count": null,
   "metadata": {},
   "outputs": [],
   "source": []
  }
 ],
 "metadata": {
  "anaconda-cloud": {},
  "kernel_info": {
   "name": "python3"
  },
  "kernelspec": {
   "display_name": "Python 3",
   "language": "python",
   "name": "python3"
  },
  "language_info": {
   "codemirror_mode": {
    "name": "ipython",
    "version": 3
   },
   "file_extension": ".py",
   "mimetype": "text/x-python",
   "name": "python",
   "nbconvert_exporter": "python",
   "pygments_lexer": "ipython3",
   "version": "3.6.8"
  },
  "nteract": {
   "version": "0.2.0"
  }
 },
 "nbformat": 4,
 "nbformat_minor": 2
}
